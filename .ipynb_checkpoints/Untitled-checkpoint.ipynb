{
 "cells": [
  {
   "cell_type": "code",
   "execution_count": null,
   "id": "1b080643",
   "metadata": {},
   "outputs": [],
   "source": [
    "import numpy as np\n",
    "import pandas as pd\n",
    "import re\n",
    "import requests\n",
    "from bs4 import BeautifulSoup as Soup\n",
    "\n",
    "\n",
    "url =  'https://sofifa.com/players?offset='\n",
    "columns = ['ID', 'picture', 'Flag', 'Name', 'Age', 'Position',\n",
    "                        'Overall', 'Potential', 'Team_Image', 'Team',\n",
    "                        'Value', 'Wage', 'Total_Point']\n",
    "    \n",
    "players = pd.DataFrame(c)\n",
    "\n",
    "for offset in range(0, 1):\n",
    "            url = url + str(offset*61)\n",
    "            p_html = requests.get(self.url)\n",
    "            p_soup = p_html.text\n",
    "            data = Soup(p_soup, 'html.parser')\n",
    "            table = data.find('tbody')\n",
    "            for i in table.findAll('tr'):\n",
    "                td = i.findAll('td')\n",
    "                picture = td[0].find('img').get('data-src')\n",
    "                ID = td[0].find('img').get('id')\n",
    "                flag = td[1].find('img').get('data-src')\n",
    "                Name = td[1].findAll('a')[0].text\n",
    "                Age = td[2].text.split()\n",
    "                Position = td[1].findAll('a')[1].text\n",
    "                Overall = td[3].find('span').text\n",
    "                Potential = td[4].find('span').text\n",
    "                Team_image = td[5].find('img').get('data-src')\n",
    "                Team = td[5].find('a').text\n",
    "                Value = td[6].text.strip()\n",
    "                Wage = td[7].text.strip()\n",
    "                Total_Point = td[8].text.strip()\n",
    "                player_data = pd.DataFrame([[ID, picture, flag, Name, Age, Position, Overall, Potential,\n",
    "                                             Team_image, Team, Value, Wage, Total_Point]])\n",
    "\n",
    "                player_data.columns = self.columns\n",
    "                self.df = self.df.append(player_data, ignore_index=True)\n",
    "self.df = self.df.iloc[self.df.astype(str).drop_duplicates().index]\n"
   ]
  }
 ],
 "metadata": {
  "kernelspec": {
   "display_name": "Python 3",
   "language": "python",
   "name": "python3"
  },
  "language_info": {
   "codemirror_mode": {
    "name": "ipython",
    "version": 3
   },
   "file_extension": ".py",
   "mimetype": "text/x-python",
   "name": "python",
   "nbconvert_exporter": "python",
   "pygments_lexer": "ipython3",
   "version": "3.6.9"
  }
 },
 "nbformat": 4,
 "nbformat_minor": 5
}
